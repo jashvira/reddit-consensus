{
 "cells": [
  {
   "cell_type": "markdown",
   "metadata": {},
   "source": [
    "# Tasteful Recommender System Tests\n",
    "\n",
    "Complete testing of the recommendation system: search tool, agent state, and full integration."
   ]
  },
  {
   "cell_type": "code",
   "execution_count": null,
   "metadata": {},
   "outputs": [],
   "source": [
    "import os\n",
    "import json\n",
    "import time\n",
    "from tools import WebSearchTool\n",
    "from agent_state import AgentState\n",
    "from recommender import AutonomousTastefulRecommender"
   ]
  },
  {
   "cell_type": "markdown",
   "metadata": {},
   "source": [
    "## Environment Check"
   ]
  },
  {
   "cell_type": "code",
   "execution_count": null,
   "metadata": {},
   "outputs": [],
   "source": [
    "# Check required API keys\n",
    "brave_key = os.getenv(\"BRAVE_API_KEY\")\n",
    "openai_key = os.getenv(\"OPENAI_API_KEY\")\n",
    "\n",
    "print(\"🔑 API KEYS STATUS\")\n",
    "print(\"=\" * 30)\n",
    "print(f\"BRAVE_API_KEY:  {'✅ Set' if brave_key else '❌ Missing'} {brave_key[:8] + '...' if brave_key else ''}\")\n",
    "print(f\"OPENAI_API_KEY: {'✅ Set' if openai_key else '❌ Missing'} {openai_key[:8] + '...' if openai_key else ''}\")\n",
    "\n",
    "can_search = bool(brave_key)\n",
    "can_recommend = bool(brave_key and openai_key)\n",
    "\n",
    "print(f\"\\n🔍 Can test search: {'✅ Yes' if can_search else '❌ No'}\")\n",
    "print(f\"🤖 Can test full system: {'✅ Yes' if can_recommend else '❌ No'}\")\n",
    "\n",
    "if not brave_key:\n",
    "    print(\"\\n📝 Get Brave API key: https://brave.com/search/api/\")\n",
    "if not openai_key:\n",
    "    print(\"📝 Set OpenAI API key in environment\")"
   ]
  },
  {
   "cell_type": "markdown",
   "metadata": {},
   "source": [
    "## WebSearchTool Tests"
   ]
  },
  {
   "cell_type": "code",
   "execution_count": null,
   "metadata": {},
   "outputs": [],
   "source": [
    "# Test search tool\n",
    "search_tool = WebSearchTool()\n",
    "\n",
    "print(\"🔍 WEBSEARCHTOOL TESTS\")\n",
    "print(\"=\" * 30)\n",
    "print(f\"Tool name: {search_tool.name()}\")\n",
    "print(f\"Description: {search_tool.description()}\")\n",
    "\n",
    "if can_search:\n",
    "    # Test basic search\n",
    "    query = \"best coffee shops Seattle 2024\"\n",
    "    print(f\"\\nTesting: '{query}'\")\n",
    "    \n",
    "    result = search_tool.execute(query=query, max_results=5)\n",
    "    parsed = json.loads(result)\n",
    "    \n",
    "    print(f\"Status: {parsed['status']}\")\n",
    "    if parsed['status'] == 'success':\n",
    "        print(f\"Results: {parsed['count']}\")\n",
    "        print(\"\\nFirst result:\")\n",
    "        if parsed['results']:\n",
    "            r = parsed['results'][0]\n",
    "            print(f\"  Title: {r['title']}\")\n",
    "            print(f\"  URL: {r['url']}\")\n",
    "            print(f\"  Snippet: {r['snippet'][:80]}...\")\n",
    "        print(\"\\n✅ Search working\")\n",
    "    else:\n",
    "        print(f\"❌ Search failed: {parsed['error']}\")\nelse:\n",
    "    print(\"⏭️ Skipping search tests - no BRAVE_API_KEY\")"
   ]
  },
  {
   "cell_type": "code",
   "execution_count": null,
   "metadata": {},
   "outputs": [],
   "source": [
    "# Test multiple queries\n",
    "if can_search:\n",
    "    test_queries = [\n",
    "        \"best budget laptops 2024\",\n",
    "        \"top rated hiking backpacks\",\n",
    "        \"mechanical keyboards programming\"\n",
    "    ]\n",
    "    \n",
    "    print(\"🔍 MULTIPLE QUERY TESTS\")\n",
    "    print(\"=\" * 30)\n",
    "    \n",
    "    for i, query in enumerate(test_queries, 1):\n",
    "        result = search_tool.execute(query=query, max_results=3)\n",
    "        parsed = json.loads(result)\n",
    "        \n",
    "        status_icon = \"✅\" if parsed['status'] == 'success' else \"❌\"\n",
    "        count = parsed.get('count', 0)\n",
    "        print(f\"{i}. {status_icon} '{query}' → {count} results\")\n",
    "    \n",
    "    print(\"\\n✅ Multiple queries working\")\nelse:\n",
    "    print(\"⏭️ Skipping multiple query tests\")"
   ]
  },
  {
   "cell_type": "code",
   "execution_count": null,
   "metadata": {},
   "outputs": [],
   "source": [
    "# Test error handling\n",
    "print(\"🔍 ERROR HANDLING TESTS\")\n",
    "print(\"=\" * 30)\n",
    "\n",
    "# Test with no API key\n",
    "original_key = os.environ.get(\"BRAVE_API_KEY\")\n",
    "if original_key:\n",
    "    os.environ[\"BRAVE_API_KEY\"] = \"\"  # Temporarily remove\n",
    "\ntry:\n",
    "    no_key_tool = WebSearchTool()\n",
    "    result = no_key_tool.execute(query=\"test\")\n",
    "    parsed = json.loads(result)\n",
    "    \n",
    "    if parsed['status'] == 'error' and 'not found' in parsed['error']:\n",
    "        print(\"✅ Handles missing API key correctly\")\n",
    "    else:\n",
    "        print(\"❌ API key error handling failed\")\nfinally:\n",
    "    if original_key:\n",
    "        os.environ[\"BRAVE_API_KEY\"] = original_key  # Restore\n",
    "\n",
    "# Test empty query\n",
    "if can_search:\n",
    "    empty_result = search_tool.execute(query=\"\")\n",
    "    empty_parsed = json.loads(empty_result)\n",
    "    print(f\"Empty query status: {empty_parsed['status']}\")\n",
    "\nprint(\"\\n✅ Error handling working\")"
   ]
  },
  {
   "cell_type": "markdown",
   "metadata": {},
   "source": [
    "## AgentState Tests"
   ]
  },
  {
   "cell_type": "code",
   "execution_count": null,
   "metadata": {},
   "outputs": [],
   "source": [
    "# Test agent state\n",
    "print(\"🧠 AGENTSTATE TESTS\")\n",
    "print(\"=\" * 25)\n",
    "\n",
    "# Create and test state\n",
    "state = AgentState()\n",
    "print(f\"Initial state - Query: '{state.original_query}'\")\n",
    "print(f\"Research data: {len(state.research_data)} items\")\n",
    "print(f\"Reasoning steps: {len(state.reasoning_steps)}\")\n",
    "print(f\"Completed: {state.completed}\")\n",
    "\n",
    "# Test adding data\n",
    "state.original_query = \"Test query for backpacks\"\n",
    "state.add_reasoning_step(\"Need to search for backpack options\")\n",
    "state.add_reasoning_step(\"Should look at reviews and prices\")\n",
    "\n",
    "# Add mock search data\n",
    "mock_search_result = json.dumps({\n",
    "    \"query\": \"best backpacks\",\n",
    "    \"status\": \"success\",\n",
    "    \"results\": [{\"title\": \"Test\", \"url\": \"test.com\", \"snippet\": \"Test snippet\"}]\n",
    "})\n",
    "state.add_research_data(\"backpack_search\", mock_search_result)\n",
    "\n",
    "# Add recommendations\n",
    "state.final_recommendations = [\n",
    "    {\"name\": \"Test Backpack 1\", \"description\": \"Great for hiking\"},\n",
    "    {\"name\": \"Test Backpack 2\", \"description\": \"Budget option\"}\n",
    "]\n",
    "state.completed = True\n",
    "\n",
    "print(f\"\\nAfter updates:\")\n",
    "print(f\"Query: {state.original_query}\")\n",
    "print(f\"Steps: {len(state.reasoning_steps)}\")\n",
    "print(f\"Research: {list(state.research_data.keys())}\")\n",
    "print(f\"Recommendations: {len(state.final_recommendations)}\")\n",
    "print(f\"Completed: {state.completed}\")\n",
    "\n",
    "print(\"\\n✅ AgentState working correctly\")"
   ]
  },
  {
   "cell_type": "markdown",
   "metadata": {},
   "source": [
    "## Recommender Integration Tests"
   ]
  },
  {
   "cell_type": "code",
   "execution_count": null,
   "metadata": {},
   "outputs": [],
   "source": [
    "# Test recommender setup\n",
    "print(\"🤖 RECOMMENDER INTEGRATION TESTS\")\n",
    "print(\"=\" * 40)\n",
    "\n",
    "if can_recommend:\n",
    "    recommender = AutonomousTastefulRecommender()\n",
    "    \n",
    "    print(f\"Available tools: {list(recommender.tools.keys())}\")\n",
    "    print(f\"Max iterations: {recommender.max_iterations}\")\n",
    "    print(f\"State type: {type(recommender.state).__name__}\")\n",
    "    \n",
    "    # Test tool execution through recommender\n",
    "    print(\"\\nTesting tool execution:\")\n",
    "    tool_result = recommender._execute_tool(\"web_search\", {\n",
    "        \"query\": \"best gaming mouse under $50\",\n",
    "        \"max_results\": 3\n",
    "    })\n",
    "    \n",
    "    tool_parsed = json.loads(tool_result)\n",
    "    print(f\"Tool test status: {tool_parsed['status']}\")\n",
    "    print(f\"Tool test results: {tool_parsed.get('count', 0)}\")\n",
    "    \n",
    "    if tool_parsed['status'] == 'success':\n",
    "        print(\"✅ Tool integration working\")\n",
    "    else:\n",
    "        print(f\"❌ Tool integration failed: {tool_parsed['error']}\")\n",
    "        \n",
    "    # Test tools description\n",
    "    tools_desc = recommender._get_tools_description()\n",
    "    print(f\"\\nTools description: {tools_desc}\")\n",
    "    \nelse:\n",
    "    print(\"⏭️ Skipping integration tests - missing API keys\")"
   ]
  },
  {
   "cell_type": "markdown",
   "metadata": {},
   "source": [
    "## Performance Tests"
   ]
  },
  {
   "cell_type": "code",
   "execution_count": null,
   "metadata": {},
   "outputs": [],
   "source": [
    "# Test search performance\n",
    "if can_search:\n",
    "    print(\"⚡ PERFORMANCE TESTS\")\n",
    "    print(\"=\" * 25)\n",
    "    \n",
    "    # Time search operations\n",
    "    test_query = \"best wireless headphones 2024\"\n",
    "    times = []\n",
    "    \n",
    "    for i in range(3):\n",
    "        start = time.time()\n",
    "        result = search_tool.execute(query=test_query, max_results=5)\n",
    "        end = time.time()\n",
    "        \n",
    "        parsed = json.loads(result)\n",
    "        if parsed['status'] == 'success':\n",
    "            times.append(end - start)\n",
    "            print(f\"Run {i+1}: {times[-1]:.2f}s ({parsed['count']} results)\")\n",
    "    \n",
    "    if times:\n",
    "        avg_time = sum(times) / len(times)\n",
    "        print(f\"\\nAverage search time: {avg_time:.2f}s\")\n",
    "        \n",
    "        if avg_time < 3.0:\n",
    "            print(\"✅ Good performance (< 3s)\")\n",
    "        else:\n",
    "            print(\"⚠️ Slow performance (> 3s)\")\n",
    "    else:\n",
    "        print(\"❌ No successful searches for timing\")\nelse:\n",
    "    print(\"⏭️ Skipping performance tests\")"
   ]
  },
  {
   "cell_type": "markdown",
   "metadata": {},
   "source": [
    "## End-to-End Recommendation Test"
   ]
  },
  {
   "cell_type": "code",
   "execution_count": null,
   "metadata": {},
   "outputs": [],
   "source": [
    "# Full system test - uncomment to run\n",
    "# WARNING: Uses API calls and costs money\n",
    "\n",
    "if can_recommend:\n",
    "    print(\"🎯 END-TO-END TEST READY\")\n",
    "    print(\"=\" * 30)\n",
    "    print(\"Uncomment the code below to run full recommendation test\")\n",
    "    print(\"This will make API calls to both Brave and OpenAI\")\n",
    "    print()\n",
    "    \n",
    "    # UNCOMMENT TO RUN FULL TEST:\n",
    "    # test_query = \"I need a good mechanical keyboard for programming under $120\"\n",
    "    # print(f\"Query: {test_query}\")\n",
    "    # print(\"=\" * 50)\n",
    "    # \n",
    "    # recommender = AutonomousTastefulRecommender()\n",
    "    # recommender.max_iterations = 3  # Limit for testing\n",
    "    # \n",
    "    # result = recommender.process_query(test_query)\n",
    "    # recommender.print_results()\n",
    "    # \n",
    "    # print(f\"\\n📊 SUMMARY:\")\n",
    "    # print(f\"Iterations: {result['steps']}\")\n",
    "    # print(f\"Recommendations: {len(result['recommendations'])}\")\n",
    "    # print(f\"Searches performed: {len(recommender.state.research_data)}\")\n",
    "    # \n",
    "    # for search_key in recommender.state.research_data.keys():\n",
    "    #     print(f\"  - {search_key}\")\n",
    "    \nelse:\n",
    "    print(\"Cannot run end-to-end test - missing API keys\")"
   ]
  },
  {
   "cell_type": "markdown",
   "metadata": {},
   "source": [
    "## System Summary"
   ]
  },
  {
   "cell_type": "code",
   "execution_count": null,
   "metadata": {},
   "outputs": [],
   "source": [
    "print(\"📋 SYSTEM TEST SUMMARY\")\n",
    "print(\"=\" * 40)\n",
    "\n",
    "# Component status\n",
    "components = [\n",
    "    (\"WebSearchTool\", \"✅\" if can_search else \"❌\"),\n",
    "    (\"AgentState\", \"✅\"),  # Always works\n",
    "    (\"Recommender\", \"✅\" if can_recommend else \"❌\"),\n",
    "    (\"Integration\", \"✅\" if can_recommend else \"❌\")\n",
    "]\n",
    "\n",
    "for component, status in components:\n",
    "    print(f\"{status} {component}\")\n",
    "\n",
    "print(f\"\\n🔧 Setup Status:\")\n",
    "print(f\"   API Keys: {2 if can_recommend else 1 if can_search else 0}/2\")\n",
    "print(f\"   Search: {'Ready' if can_search else 'Need BRAVE_API_KEY'}\")\n",
    "print(f\"   Full System: {'Ready' if can_recommend else 'Need OPENAI_API_KEY'}\")\n",
    "\n",
    "print(f\"\\n📈 Architecture:\")\n",
    "print(f\"   Files: 4 core + 1 test notebook\")\n",
    "print(f\"   Tools: 1 (WebSearchTool)\")\n",
    "print(f\"   Dependencies: Brave Search API\")\n",
    "print(f\"   Complexity: Minimal\")\n",
    "\n",
    "if can_recommend:\n",
    "    print(\"\\n🚀 System ready for recommendations!\")\n",
    "elif can_search:\n",
    "    print(\"\\n⚠️ Set OPENAI_API_KEY for full functionality\")\n",
    "else:\n",
    "    print(\"\\n⚠️ Set BRAVE_API_KEY to begin testing\")"
   ]
  }
 ],
 "metadata": {
  "kernelspec": {
   "display_name": "Python 3",
   "language": "python",
   "name": "python3"
  },
  "language_info": {
   "codemirror_mode": {
    "name": "ipython",
    "version": 3
   },
   "file_extension": ".py",
   "mimetype": "text/x-python",
   "name": "python",
   "nbconvert_exporter": "python",
   "pygments_lexer": "ipython3",
   "version": "3.11.0"
  }
 },
 "nbformat": 4,
 "nbformat_minor": 4
}